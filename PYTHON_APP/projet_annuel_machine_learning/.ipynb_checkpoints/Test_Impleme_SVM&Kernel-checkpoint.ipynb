{
 "cells": [
  {
   "cell_type": "markdown",
   "id": "b7f8b40c-eff2-4a7c-91e3-063b7671f302",
   "metadata": {},
   "source": [
    "# Test Implémentation SVM & Kernel en Python"
   ]
  },
  {
   "cell_type": "markdown",
   "id": "0728d8ff-b39c-4357-8066-8153913006be",
   "metadata": {},
   "source": [
    "# SVM"
   ]
  },
  {
   "cell_type": "code",
   "execution_count": 2,
   "id": "67ecccb0-50b6-4433-a23e-15fc165d864c",
   "metadata": {},
   "outputs": [],
   "source": [
    "import random\n",
    "import numpy as np\n",
    "import matplotlib.pyplot as plt\n",
    "import math\n",
    "from quadprog import solve_qp\n",
    "from cvxopt import matrix, solvers\n",
    "from math import exp"
   ]
  },
  {
   "cell_type": "code",
   "execution_count": 3,
   "id": "5d1bca53-0f3c-4fe6-93ce-6746e2e5fab3",
   "metadata": {},
   "outputs": [],
   "source": [
    "X = np.array([\n",
    "    [1.0, 1],\n",
    "    [2, 1],\n",
    "    [2, 2],\n",
    "    [4, 1],\n",
    "    [4, 4]\n",
    "])\n",
    "Y = np.array([\n",
    "    1,\n",
    "    1,\n",
    "    -1,\n",
    "    -1,\n",
    "    -1\n",
    "])\n",
    "# X = np.random.random((500, 2)) * 2.0 - 1.0\n",
    "# Y = np.array([[1, 0, 0] if -p[0] - p[1] - 0.5 > 0 and p[1] < 0 and p[0] - p[1] - 0.5 < 0 else \n",
    "#               [0, 1, 0] if -p[0] - p[1] - 0.5 < 0 and p[1] > 0 and p[0] - p[1] - 0.5 < 0 else \n",
    "#               [0, 0, 1] if -p[0] - p[1] - 0.5 < 0 and p[1] < 0 and p[0] - p[1] - 0.5 > 0 else \n",
    "#               [0, 0, 0]for p in X])\n",
    "# X = X[[not np.all(arr == [0, 0, 0]) for arr in Y]]\n",
    "# Yf = Y[[not np.all(arr == [0, 0, 0]) for arr in Y]]\n",
    "# Y = np.array([1 if v[0] == 1 else -1 for v in Yf])"
   ]
  },
  {
   "cell_type": "code",
   "execution_count": 4,
   "id": "2f8d82c4-4be5-4197-8359-fedb68874e0f",
   "metadata": {},
   "outputs": [
    {
     "name": "stdout",
     "output_type": "stream",
     "text": [
      "BigMatrix: [[  2.   3.  -4.  -5.  -8.]\n",
      " [  3.   5.  -6.  -9. -12.]\n",
      " [ -4.  -6.   8.  10.  16.]\n",
      " [ -5.  -9.  10.  17.  20.]\n",
      " [ -8. -12.  16.  20.  32.]]\n"
     ]
    }
   ],
   "source": [
    "BigMatrix = []\n",
    "for i in range(len(X)):\n",
    "    BigMatrix.append([])\n",
    "    for j in range(len(X)):\n",
    "        BigMatrix[i].append(Y[i]*Y[j]*(np.matmul(X[i].T,X[j])))\n",
    "BigMatrix = np.array(BigMatrix)\n",
    "print(\"BigMatrix:\",BigMatrix)"
   ]
  },
  {
   "cell_type": "markdown",
   "id": "f7f034c8-2fc8-49df-836b-47d7b214e45e",
   "metadata": {},
   "source": [
    "# Programmation quadratique avec Quadprog (Fonctionne pas pour le moment)"
   ]
  },
  {
   "cell_type": "code",
   "execution_count": null,
   "id": "25f7154b-662c-4b6e-96ea-a097efce0087",
   "metadata": {},
   "outputs": [],
   "source": [
    "# P = BigMatrix\n",
    "# q = np.ones(len(X)) * -1\n",
    "# G = np.diag(np.ones(len(X)) * -1)\n",
    "# h = np.zeros(len(X))\n",
    "# A = np.array(Y.T)\n",
    "# b = 0.0\n",
    "# print(\"P:\",P)\n",
    "# print(\"q:\",q)\n",
    "# print(\"G:\",G)\n",
    "# print(\"h:\",h)\n",
    "# print(\"A:\",A)\n",
    "# print(\"b:\",b)\n",
    "# alphas = solve_qp(P, q, G, h, A, b)\n",
    "\n",
    "#print(alphas)"
   ]
  },
  {
   "cell_type": "markdown",
   "id": "ac67d3d6-d41a-450f-8669-f30f690063ef",
   "metadata": {},
   "source": [
    "# Programmation quadratique avec CVXOPT"
   ]
  },
  {
   "cell_type": "code",
   "execution_count": 5,
   "id": "8b955c22-a681-4e57-abd0-6558cde7e3ae",
   "metadata": {},
   "outputs": [
    {
     "name": "stdout",
     "output_type": "stream",
     "text": [
      "P: [ 2.00e+00  3.00e+00 -4.00e+00 -5.00e+00 -8.00e+00]\n",
      "[ 3.00e+00  5.00e+00 -6.00e+00 -9.00e+00 -1.20e+01]\n",
      "[-4.00e+00 -6.00e+00  8.00e+00  1.00e+01  1.60e+01]\n",
      "[-5.00e+00 -9.00e+00  1.00e+01  1.70e+01  2.00e+01]\n",
      "[-8.00e+00 -1.20e+01  1.60e+01  2.00e+01  3.20e+01]\n",
      "\n",
      "G: [-1.00e+00  0.00e+00  0.00e+00  0.00e+00  0.00e+00]\n",
      "[ 0.00e+00 -1.00e+00  0.00e+00  0.00e+00  0.00e+00]\n",
      "[ 0.00e+00  0.00e+00 -1.00e+00  0.00e+00  0.00e+00]\n",
      "[ 0.00e+00  0.00e+00  0.00e+00 -1.00e+00  0.00e+00]\n",
      "[ 0.00e+00  0.00e+00  0.00e+00  0.00e+00 -1.00e+00]\n",
      "\n",
      "A: [ 1.00e+00  1.00e+00 -1.00e+00 -1.00e+00 -1.00e+00]\n",
      "\n",
      "     pcost       dcost       gap    pres   dres\n",
      " 0: -2.0597e+00 -4.5414e+00  1e+01  3e+00  2e+00\n",
      " 1: -4.3597e+00 -5.2549e+00  4e+00  9e-01  7e-01\n",
      " 2: -2.4010e+00 -2.8409e+00  4e-01  5e-16  1e-14\n",
      " 3: -2.4976e+00 -2.5043e+00  7e-03  1e-15  1e-15\n",
      " 4: -2.5000e+00 -2.5000e+00  7e-05  4e-16  8e-16\n",
      " 5: -2.5000e+00 -2.5000e+00  7e-07  6e-16  1e-15\n",
      "Optimal solution found.\n",
      "[[1.63602039e-07]\n",
      " [2.49999993e+00]\n",
      " [2.00000007e+00]\n",
      " [5.00000012e-01]\n",
      " [1.25012512e-08]]\n"
     ]
    }
   ],
   "source": [
    "P = matrix(BigMatrix)\n",
    "q = matrix(np.ones(len(X)) * -1)\n",
    "G = matrix(np.diag(np.ones(len(X)) * -1))\n",
    "h = matrix(np.zeros(len(X)))\n",
    "A = matrix(Y * 1.0, (1,len(X)))\n",
    "b = matrix(0.0)\n",
    "print(\"P:\",P)\n",
    "# print(\"q:\",q)\n",
    "print(\"G:\",G)\n",
    "# print(\"h:\",h)\n",
    "print(\"A:\",A)\n",
    "# print(\"b:\",b)\n",
    "alphas = solvers.qp(P, q, G, h, A, b)\n",
    "alphas = np.array(alphas['x'])\n",
    "print(alphas)"
   ]
  },
  {
   "cell_type": "code",
   "execution_count": 6,
   "id": "d46f35a1-7545-42aa-b560-65b54ba853c5",
   "metadata": {},
   "outputs": [
    {
     "name": "stdout",
     "output_type": "stream",
     "text": [
      "[-1.00000021 -2.00000011]\n"
     ]
    }
   ],
   "source": [
    "for n in range(len(X)):\n",
    "    if n == 0:\n",
    "        TmpW = alphas[n]*Y[n]*X[n]\n",
    "    else:\n",
    "        TmpW += alphas[n]*Y[n]*X[n]\n",
    "print(TmpW)"
   ]
  },
  {
   "cell_type": "code",
   "execution_count": 7,
   "id": "57ece4a4-b6b7-4e12-b653-aa2977fe4ad5",
   "metadata": {},
   "outputs": [
    {
     "name": "stdout",
     "output_type": "stream",
     "text": [
      "5.000000534830054\n"
     ]
    }
   ],
   "source": [
    "for i in range(len(alphas)):\n",
    "    if alphas[i] > 0.000001:\n",
    "        svPos = i\n",
    "        break\n",
    "for n in range(len(X[svPos])):\n",
    "    if n == 0:\n",
    "        SumWX = TmpW[n]*X[svPos][n]\n",
    "    else:\n",
    "        SumWX += TmpW[n]*X[svPos][n]\n",
    "W0 = 1/Y[svPos]-SumWX\n",
    "print(W0)"
   ]
  },
  {
   "cell_type": "code",
   "execution_count": 8,
   "id": "6bdc8a27-36ae-4a18-811b-227f1693a021",
   "metadata": {},
   "outputs": [
    {
     "name": "stdout",
     "output_type": "stream",
     "text": [
      "[5.000000534830054, -1.0000002135220403, -2.000000107785973]\n"
     ]
    }
   ],
   "source": [
    "W = [W0]\n",
    "W.extend(TmpW)\n",
    "print(W)"
   ]
  },
  {
   "cell_type": "markdown",
   "id": "de39d83b-d0b9-4f7e-a70d-7548e1f42951",
   "metadata": {},
   "source": [
    "# Result"
   ]
  },
  {
   "cell_type": "code",
   "execution_count": 10,
   "id": "72d749b2-4ad8-43da-91e7-978c2ce1c2a6",
   "metadata": {},
   "outputs": [
    {
     "data": {
      "image/png": "[encoded data removed]",
      "text/plain": [
       "<Figure size 432x288 with 1 Axes>"
      ]
     },
     "metadata": {
      "needs_background": "light"
     },
     "output_type": "display_data"
    }
   ],
   "source": [
    "points_x1_blue = []\n",
    "points_x2_blue = []\n",
    "\n",
    "points_x1_red = []\n",
    "points_x2_red = []\n",
    "\n",
    "for i in range(0, 50):\n",
    "    for j in range(0, 50):\n",
    "      if np.matmul(W, [1.0, i/10, j/10]) >= 0:\n",
    "          points_x1_blue.append(i/10)\n",
    "          points_x2_blue.append(j/10)\n",
    "      else:\n",
    "        points_x1_red.append(i/10)\n",
    "        points_x2_red.append(j/10)\n",
    "\n",
    "plt.scatter(points_x1_blue, points_x2_blue, c='pink')\n",
    "plt.scatter(points_x1_red, points_x2_red, c='cyan')\n",
    "\n",
    "plt.scatter([p[0] for p in X[:2]], [p[1] for p in X[:2]], c='red', s=100)\n",
    "plt.scatter([p[0] for p in X[2:]], [p[1] for p in X[2:]], c='blue', s=100)\n",
    "# plt.scatter(np.array(list(map(lambda elt : elt[1], filter(lambda c: Yf[c[0]][0] == 1, enumerate(X)))))[:,0], np.array(list(map(lambda elt : elt[1], filter(lambda c: Yf[c[0]][0] == 1, enumerate(X)))))[:,1], color='blue')\n",
    "# plt.scatter(np.array(list(map(lambda elt : elt[1], filter(lambda c: Yf[c[0]][1] == 1, enumerate(X)))))[:,0], np.array(list(map(lambda elt : elt[1], filter(lambda c: Yf[c[0]][1] == 1, enumerate(X)))))[:,1], color='red')\n",
    "# plt.scatter(np.array(list(map(lambda elt : elt[1], filter(lambda c: Yf[c[0]][2] == 1, enumerate(X)))))[:,0], np.array(list(map(lambda elt : elt[1], filter(lambda c: Yf[c[0]][2] == 1, enumerate(X)))))[:,1], color='green')\n",
    "\n",
    "\n",
    "plt.show()"
   ]
  },
  {
   "cell_type": "markdown",
   "id": "a0648cbe-c258-448c-8fec-9f3885f0569a",
   "metadata": {},
   "source": [
    "# Kernel Trick"
   ]
  },
  {
   "cell_type": "code",
   "execution_count": 9,
   "id": "e7447791-14b1-41cc-8997-804baa10154c",
   "metadata": {},
   "outputs": [],
   "source": [
    "X = np.array([\n",
    "    [1, 1],\n",
    "    [2, 1],\n",
    "    [2, 2],\n",
    "    [2, 0.5],\n",
    "    [4, 4],\n",
    "    [0, 0]\n",
    "])\n",
    "Y = np.array([\n",
    "    1,\n",
    "    1,\n",
    "    1,\n",
    "    -1,\n",
    "    -1,\n",
    "    -1\n",
    "])"
   ]
  },
  {
   "cell_type": "code",
   "execution_count": 10,
   "id": "a2091f38-becd-40d0-9e58-eadc4eb7a38e",
   "metadata": {},
   "outputs": [
    {
     "name": "stdout",
     "output_type": "stream",
     "text": [
      "BigMatrix: [[ 1.00000000e+00  3.67879441e-01  1.35335283e-01 -2.86504797e-01\n",
      "  -1.52299797e-08 -1.35335283e-01]\n",
      " [ 3.67879441e-01  1.00000000e+00  3.67879441e-01 -7.78800783e-01\n",
      "  -2.26032941e-06 -6.73794700e-03]\n",
      " [ 1.35335283e-01  3.67879441e-01  1.00000000e+00 -1.05399225e-01\n",
      "  -3.35462628e-04 -3.35462628e-04]\n",
      " [-2.86504797e-01 -7.78800783e-01 -1.05399225e-01  1.00000000e+00\n",
      "   8.76424822e-08  1.42642339e-02]\n",
      " [-1.52299797e-08 -2.26032941e-06 -3.35462628e-04  8.76424822e-08\n",
      "   1.00000000e+00  1.26641655e-14]\n",
      " [-1.35335283e-01 -6.73794700e-03 -3.35462628e-04  1.42642339e-02\n",
      "   1.26641655e-14  1.00000000e+00]]\n"
     ]
    }
   ],
   "source": [
    "def radialKernel(Xn, Xm):\n",
    "    return exp(np.matmul(Xn, Xn)*-1.0)*exp(np.matmul(Xm, Xm)*-1.0)*exp(np.matmul(Xn*2.0, Xm))\n",
    "\n",
    "BigMatrix = []\n",
    "for i in range(len(X)):\n",
    "    BigMatrix.append([])\n",
    "    for j in range(len(X)):\n",
    "        BigMatrix[i].append(Y[i]*Y[j]*radialKernel(X[i],X[j]))\n",
    "BigMatrix = np.array(BigMatrix)\n",
    "print(\"BigMatrix:\",BigMatrix)"
   ]
  },
  {
   "cell_type": "markdown",
   "id": "ae6cf296-57cc-4898-b104-c4ca0c92c98f",
   "metadata": {},
   "source": [
    "# Programmation quadratique avec CVXOPT"
   ]
  },
  {
   "cell_type": "code",
   "execution_count": 11,
   "id": "04398110-2346-4236-bcee-c609d2e9c65f",
   "metadata": {},
   "outputs": [
    {
     "name": "stdout",
     "output_type": "stream",
     "text": [
      "P: [ 1.00e+00  3.68e-01  1.35e-01 -2.87e-01 -1.52e-08 -1.35e-01]\n",
      "[ 3.68e-01  1.00e+00  3.68e-01 -7.79e-01 -2.26e-06 -6.74e-03]\n",
      "[ 1.35e-01  3.68e-01  1.00e+00 -1.05e-01 -3.35e-04 -3.35e-04]\n",
      "[-2.87e-01 -7.79e-01 -1.05e-01  1.00e+00  8.76e-08  1.43e-02]\n",
      "[-1.52e-08 -2.26e-06 -3.35e-04  8.76e-08  1.00e+00  1.27e-14]\n",
      "[-1.35e-01 -6.74e-03 -3.35e-04  1.43e-02  1.27e-14  1.00e+00]\n",
      "\n",
      "q: [-1.00e+00]\n",
      "[-1.00e+00]\n",
      "[-1.00e+00]\n",
      "[-1.00e+00]\n",
      "[-1.00e+00]\n",
      "[-1.00e+00]\n",
      "\n",
      "G: [-1.00e+00  0.00e+00  0.00e+00  0.00e+00  0.00e+00  0.00e+00]\n",
      "[ 0.00e+00 -1.00e+00  0.00e+00  0.00e+00  0.00e+00  0.00e+00]\n",
      "[ 0.00e+00  0.00e+00 -1.00e+00  0.00e+00  0.00e+00  0.00e+00]\n",
      "[ 0.00e+00  0.00e+00  0.00e+00 -1.00e+00  0.00e+00  0.00e+00]\n",
      "[ 0.00e+00  0.00e+00  0.00e+00  0.00e+00 -1.00e+00  0.00e+00]\n",
      "[ 0.00e+00  0.00e+00  0.00e+00  0.00e+00  0.00e+00 -1.00e+00]\n",
      "\n",
      "h: [ 0.00e+00]\n",
      "[ 0.00e+00]\n",
      "[ 0.00e+00]\n",
      "[ 0.00e+00]\n",
      "[ 0.00e+00]\n",
      "[ 0.00e+00]\n",
      "\n",
      "A: [ 1.00e+00  1.00e+00  1.00e+00 -1.00e+00 -1.00e+00 -1.00e+00]\n",
      "\n",
      "b: [ 0.00e+00]\n",
      "\n",
      "     pcost       dcost       gap    pres   dres\n",
      " 0: -2.7226e+00 -6.8109e+00  4e+00  2e-16  2e+00\n",
      " 1: -3.9031e+00 -4.7613e+00  9e-01  2e-16  6e-01\n",
      " 2: -5.4708e+00 -6.3222e+00  9e-01  9e-16  3e-16\n",
      " 3: -5.5056e+00 -5.5227e+00  2e-02  7e-16  2e-16\n",
      " 4: -5.5059e+00 -5.5062e+00  3e-04  1e-15  2e-16\n",
      " 5: -5.5059e+00 -5.5059e+00  3e-06  1e-15  1e-16\n",
      "Optimal solution found.\n",
      "[[1.14085452]\n",
      " [4.21582264]\n",
      " [0.14923178]\n",
      " [4.20480447]\n",
      " [0.58914407]\n",
      " [0.7119604 ]]\n"
     ]
    }
   ],
   "source": [
    "P = matrix(BigMatrix)\n",
    "q = matrix(np.ones(len(X)) * -1)\n",
    "G = matrix(np.diag(np.ones(len(X)) * -1))\n",
    "h = matrix(np.zeros(len(X)))\n",
    "A = matrix(Y * 1.0, (1,len(X)))\n",
    "b = matrix(0.0)\n",
    "print(\"P:\",P)\n",
    "print(\"q:\",q)\n",
    "print(\"G:\",G)\n",
    "print(\"h:\",h)\n",
    "print(\"A:\",A)\n",
    "print(\"b:\",b)\n",
    "alphas = solvers.qp(P, q, G, h, A, b)\n",
    "alphas = np.array(alphas['x'])\n",
    "print(alphas)"
   ]
  },
  {
   "cell_type": "code",
   "execution_count": 12,
   "id": "29d66def-6722-49f9-85d6-7de764e47738",
   "metadata": {},
   "outputs": [
    {
     "name": "stdout",
     "output_type": "stream",
     "text": [
      "[-0.4109153]\n"
     ]
    }
   ],
   "source": [
    "for i in range(len(alphas)):\n",
    "    if alphas[i] > 0.000001:\n",
    "        svPos = i\n",
    "        break\n",
    "for k in range(len(X)):\n",
    "    if k == 0:\n",
    "        Sum = alphas[k]*Y[k]*radialKernel(X[k], X[svPos])\n",
    "    else:\n",
    "        Sum += alphas[k]*Y[k]*radialKernel(X[k], X[svPos])\n",
    "W0 = 1/Y[svPos]-Sum\n",
    "print(W0)"
   ]
  },
  {
   "cell_type": "code",
   "execution_count": 13,
   "id": "e0fc8d0c-19f0-4025-9af3-d60cedeac1cd",
   "metadata": {},
   "outputs": [],
   "source": [
    "def model(input):\n",
    "    for k in range(len(X)):\n",
    "        if k == 0:\n",
    "            result_sum = alphas[k]*Y[k]*radialKernel(X[k], input)\n",
    "        else:\n",
    "            result_sum += alphas[k]*Y[k]*radialKernel(X[k], input)\n",
    "    return result_sum+W0"
   ]
  },
  {
   "cell_type": "markdown",
   "id": "fc2886f3-3447-4dfd-859a-a3a2fff78f41",
   "metadata": {},
   "source": [
    "# Result"
   ]
  },
  {
   "cell_type": "code",
   "execution_count": 17,
   "id": "39af5373-d264-4512-a864-1fff7b4c2a4a",
   "metadata": {},
   "outputs": [
    {
     "data": {
      "image/png": "[encoded data removed]",
      "text/plain": [
       "<Figure size 432x288 with 1 Axes>"
      ]
     },
     "metadata": {
      "needs_background": "light"
     },
     "output_type": "display_data"
    }
   ],
   "source": [
    "points_x1_blue = []\n",
    "points_x2_blue = []\n",
    "\n",
    "points_x1_red = []\n",
    "points_x2_red = []\n",
    "\n",
    "for i in range(0, 50):\n",
    "    for j in range(0, 50):\n",
    "      if model([i/10, j/10]) >= 0:\n",
    "          points_x1_blue.append(i/10)\n",
    "          points_x2_blue.append(j/10)\n",
    "      else:\n",
    "        points_x1_red.append(i/10)\n",
    "        points_x2_red.append(j/10)\n",
    "\n",
    "plt.scatter(points_x1_blue, points_x2_blue, c='pink')\n",
    "plt.scatter(points_x1_red, points_x2_red, c='cyan')\n",
    "\n",
    "plt.scatter([p[0] for p in X[:3]], [p[1] for p in X[:3]], c='red', s=100)\n",
    "plt.scatter([p[0] for p in X[3:]], [p[1] for p in X[3:]], c='blue', s=100)\n",
    "\n",
    "plt.show()"
   ]
  },
  {
   "cell_type": "markdown",
   "id": "58b83fde-5595-4170-a4ec-348741a17f50",
   "metadata": {},
   "source": [
    "# Kernel Trick With Lots of samples"
   ]
  },
  {
   "cell_type": "code",
   "execution_count": 50,
   "id": "f908defa-4ba2-4a5f-84a8-8e07ac3a73b8",
   "metadata": {},
   "outputs": [
    {
     "name": "stdout",
     "output_type": "stream",
     "text": [
      "[[0.78215257 3.31209849]\n",
      " [3.3016577  1.07045368]\n",
      " [0.85720289 2.25183212]\n",
      " [1.5612014  0.8636979 ]\n",
      " [1.90064362 2.87350566]\n",
      " [1.79600144 2.56249879]\n",
      " [1.38353297 3.70301476]\n",
      " [1.47102857 4.43633888]\n",
      " [0.63245502 4.40755425]\n",
      " [3.34764637 4.0055852 ]\n",
      " [2.85723674 1.76493638]\n",
      " [3.7545536  1.11260117]\n",
      " [2.72002011 4.47572954]\n",
      " [3.0695954  1.12259274]\n",
      " [3.24745549 2.00307017]\n",
      " [3.58922917 0.59523996]\n",
      " [3.48581029 0.64894955]\n",
      " [3.28210471 3.02405582]\n",
      " [3.15312168 2.16355028]\n",
      " [1.41898956 2.02158256]]\n",
      "[ 1 -1 -1 -1  1 -1  1 -1  1  1  1  1  1  1  1 -1  1  1 -1  1]\n"
     ]
    }
   ],
   "source": [
    "X = np.array([[random.uniform(0.5, 4.5), random.uniform(0.5, 4.5)] for _ in range(20)])\n",
    "Y = [random.randint(0, 1) for _ in range(20)]\n",
    "Y = np.array([elt if elt == 1 else -1 for elt in Y])\n",
    "print(X)\n",
    "print(Y)"
   ]
  },
  {
   "cell_type": "markdown",
   "id": "ff5a2b08-df22-43b3-ac32-f95e98230657",
   "metadata": {},
   "source": [
    "# Result"
   ]
  },
  {
   "cell_type": "code",
   "execution_count": 55,
   "id": "5bbf2ff2-0f79-46c2-b7fa-07736602e38b",
   "metadata": {},
   "outputs": [
    {
     "data": {
      "image/png": "[encoded data removed]",
      "text/plain": [
       "<Figure size 432x288 with 1 Axes>"
      ]
     },
     "metadata": {
      "needs_background": "light"
     },
     "output_type": "display_data"
    }
   ],
   "source": [
    "points_x1_blue = []\n",
    "points_x2_blue = []\n",
    "\n",
    "points_x1_red = []\n",
    "points_x2_red = []\n",
    "\n",
    "for i in range(0, 50):\n",
    "    for j in range(0, 50):\n",
    "      if model([i/10, j/10]) >= 0:\n",
    "          points_x1_blue.append(i/10)\n",
    "          points_x2_blue.append(j/10)\n",
    "      else:\n",
    "        points_x1_red.append(i/10)\n",
    "        points_x2_red.append(j/10)\n",
    "\n",
    "plt.scatter(points_x1_blue, points_x2_blue, c='pink')\n",
    "plt.scatter(points_x1_red, points_x2_red, c='cyan')\n",
    "\n",
    "plt.scatter([X[k][0] for k in range(len(X)) if Y[k] == 1], [X[k][1] for k in range(len(X)) if Y[k] == 1], c='red', s=100)\n",
    "plt.scatter([X[k][0] for k in range(len(X)) if Y[k] == -1], [X[k][1] for k in range(len(X)) if Y[k] == -1], c='blue', s=100)\n",
    "\n",
    "plt.show()"
   ]
  },
  {
   "cell_type": "code",
   "execution_count": null,
   "id": "d6cced6d-629a-4b76-9ab1-0312b682309a",
   "metadata": {},
   "outputs": [],
   "source": []
  }
 ],
 "metadata": {
  "kernelspec": {
   "display_name": "Python 3",
   "language": "python",
   "name": "python3"
  },
  "language_info": {
   "codemirror_mode": {
    "name": "ipython",
    "version": 3
   },
   "file_extension": ".py",
   "mimetype": "text/x-python",
   "name": "python",
   "nbconvert_exporter": "python",
   "pygments_lexer": "ipython3",
   "version": "3.9.2"
  }
 },
 "nbformat": 4,
 "nbformat_minor": 5
}
