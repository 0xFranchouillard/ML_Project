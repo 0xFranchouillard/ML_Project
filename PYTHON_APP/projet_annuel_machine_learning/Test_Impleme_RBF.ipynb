{
 "cells": [
  {
   "cell_type": "markdown",
   "id": "01fac0db-4f1b-4100-9ffc-9070562520eb",
   "metadata": {},
   "source": [
    "# Test Implementation RBF regression et classification en Python"
   ]
  },
  {
   "cell_type": "code",
   "execution_count": 2,
   "id": "24969195-1479-4fea-a9bb-6bc7490e3cdd",
   "metadata": {},
   "outputs": [],
   "source": [
    "import random\n",
    "import numpy as np\n",
    "import matplotlib.pyplot as plt\n",
    "import math\n",
    "from cvxopt import matrix, solvers\n",
    "from math import exp\n",
    "from scipy.spatial import distance"
   ]
  },
  {
   "cell_type": "markdown",
   "id": "716c0230-ece9-412b-b70f-c8cfc436b5c0",
   "metadata": {},
   "source": [
    "# Lloyd"
   ]
  },
  {
   "cell_type": "code",
   "execution_count": 3,
   "id": "dd7dc6fb-66b2-4453-ac31-20e08b242fd7",
   "metadata": {},
   "outputs": [],
   "source": [
    "def mean (cluster):\n",
    "    average = []\n",
    "    for i in range(len(cluster[0])):\n",
    "        average.append(0) \n",
    "    for dimension in range(len(average)):\n",
    "        for points in cluster:\n",
    "            average[dimension] += points[dimension]\n",
    "        average[dimension] /= len(cluster)\n",
    "    return average"
   ]
  },
  {
   "cell_type": "code",
   "execution_count": 4,
   "id": "fd593254-2f93-472e-8383-24bd4f0d6130",
   "metadata": {},
   "outputs": [],
   "source": [
    "def get_rand_sites(data, clusters):\n",
    "    sites = []\n",
    "    initialCenters = set([])\n",
    "    for i in range(clusters):\n",
    "        initialCenter = random.randint(0,len(data)-1)\n",
    "        if initialCenter not in initialCenters:\n",
    "            initialCenters.add(initialCenter)\n",
    "            x = data[initialCenter]\n",
    "            sites.append(x)\n",
    "    return sites"
   ]
  },
  {
   "cell_type": "code",
   "execution_count": 5,
   "id": "bec5ecb0-6874-46eb-a7e8-3d9d4bff85f5",
   "metadata": {},
   "outputs": [],
   "source": [
    "def lloyd(data, cluster_num, iterations, sites = None):\n",
    "    clusters = []\n",
    "    for i in range(cluster_num):\n",
    "        clusters.append([])\n",
    "        if sites is None:\n",
    "            sites = []\n",
    "            while len(sites) != cluster_num:\n",
    "                sites = get_rand_sites(data,cluster_num)\n",
    "    for i in range(iterations):\n",
    "        for point in range(len(data)):\n",
    "            closest_site_number = 0\n",
    "            closest_site_distance = distance.euclidean(sites[closest_site_number], data[point])\n",
    "            for site_number in range(1,len(sites)):\n",
    "                site_distance = distance.euclidean(sites[site_number], data[point])\n",
    "                if site_distance < closest_site_distance:\n",
    "                    closest_site_number = site_number\n",
    "                    closest_site_distance = site_distance\n",
    "            clusters[closest_site_number].append(data[point])\n",
    "            \n",
    "        for m in range(cluster_num):\n",
    "            sites[m] = mean(clusters[m])\n",
    "            clusters[m].clear()\n",
    "    return sites"
   ]
  },
  {
   "cell_type": "code",
   "execution_count": 10,
   "id": "1f349453-2601-4e70-a1f0-6f4338c22d2d",
   "metadata": {},
   "outputs": [
    {
     "name": "stdout",
     "output_type": "stream",
     "text": [
      "[[1.71989407 3.56611142]\n",
      " [3.94541495 3.77863028]\n",
      " [2.60444335 1.49467754]\n",
      " [3.05519693 2.9260223 ]\n",
      " [1.25672378 2.70430196]\n",
      " [0.82827581 0.54899879]\n",
      " [1.36730706 3.16812563]\n",
      " [1.64805864 3.12606384]\n",
      " [3.37986416 0.84718661]\n",
      " [0.87872505 0.75632516]\n",
      " [3.94013859 3.68085241]\n",
      " [1.43738928 3.0588086 ]\n",
      " [3.67036813 3.78239464]\n",
      " [2.85765733 4.20016087]\n",
      " [2.36548665 2.26237553]\n",
      " [1.23856455 3.44745835]\n",
      " [0.69506187 1.53313015]\n",
      " [3.95462403 3.10695563]\n",
      " [2.88735991 4.17236598]\n",
      " [2.82434322 3.45771188]]\n",
      "[ 1  1  1 -1  1  1  1 -1  1  1 -1  1 -1  1  1 -1 -1  1 -1  1]\n"
     ]
    }
   ],
   "source": [
    "X = np.array([[random.uniform(0.5, 4.5), random.uniform(0.5, 4.5)] for _ in range(20)])\n",
    "Y = [random.randint(0, 1) for _ in range(20)]\n",
    "Y = np.array([elt if elt == 1 else -1 for elt in Y])\n",
    "print(X)\n",
    "print(Y)"
   ]
  },
  {
   "cell_type": "code",
   "execution_count": 24,
   "id": "d7e5dce7-bf09-4fbc-84b2-1c96e5502ec5",
   "metadata": {},
   "outputs": [
    {
     "name": "stdout",
     "output_type": "stream",
     "text": [
      "[[1.4373892839773825, 3.0588085965654246], [1.7198940719442972, 3.5661114205580255], [2.365486645688147, 2.262375529021982], [3.9401385910711553, 3.6808524064069674], [3.3798641648995753, 0.8471866087488156], [1.2385645549304458, 3.4474583492923987], [2.824343218606422, 3.4577118800859727], [1.3673070612736553, 3.1681256305417387], [3.6703681314764602, 3.782394638002457], [1.6480586421631767, 3.1260638377444296], [3.055196928851259, 2.9260223042426037], [0.6950618716428503, 1.533130154698116], [3.954624034165697, 3.1069556289958626], [2.887359914929601, 4.172365980411156], [0.8282758091479305, 0.5489987886976015], [0.8787250536357907, 0.7563251603307757], [2.6044433507481104, 1.4946775436932835], [1.2567237824666688, 2.7043019571964444], [2.857657333658124, 4.200160868299108], [3.9454149505141776, 3.7786302766227178]]\n"
     ]
    },
    {
     "data": {
      "image/png": "[encoded data removed]",
      "text/plain": [
       "<Figure size 432x288 with 1 Axes>"
      ]
     },
     "metadata": {
      "needs_background": "light"
     },
     "output_type": "display_data"
    }
   ],
   "source": [
    "cluster_points = lloyd(X,20,20)\n",
    "print(cluster_points)\n",
    "\n",
    "plt.scatter([p[0] for p in X], [p[1] for p in X], c='blue', s=100)\n",
    "plt.scatter([p[0] for p in cluster_points], [p[1] for p in cluster_points], c='red', s=100)\n",
    "\n",
    "plt.show()"
   ]
  },
  {
   "cell_type": "code",
   "execution_count": 20,
   "id": "6e9763aa-a7d3-4eff-8cab-17b82eb70e33",
   "metadata": {},
   "outputs": [
    {
     "name": "stdout",
     "output_type": "stream",
     "text": [
      "BigMatrix: [[0.82491011 0.62773968 0.91299314 0.59112958]\n",
      " [0.37093871 0.99588486 0.8485259  0.52805189]\n",
      " [0.76350631 0.54882781 0.62424197 0.99664737]\n",
      " [0.67304211 0.89461899 0.93290263 0.81794553]\n",
      " [0.98245697 0.46539412 0.74705643 0.69085957]\n",
      " [0.72926882 0.15677687 0.26998063 0.61917457]\n",
      " [0.9226146  0.52322778 0.82361828 0.62670062]\n",
      " [0.91175101 0.59549212 0.87529148 0.68242793]\n",
      " [0.4976263  0.46045066 0.42987557 0.9204736 ]\n",
      " [0.78308117 0.18254896 0.31154783 0.65486831]\n",
      " [0.38262768 0.99873323 0.85075248 0.55188657]\n",
      " [0.93624568 0.53611787 0.82833088 0.66138803]\n",
      " [0.42841554 0.99192698 0.90331287 0.55772602]\n",
      " [0.52256802 0.86796245 0.96825549 0.49115439]\n",
      " [0.86648726 0.66752538 0.81400113 0.93202257]\n",
      " [0.87477606 0.49736902 0.81115772 0.5463713 ]\n",
      " [0.92296445 0.23816257 0.43004616 0.64657933]\n",
      " [0.4306884  0.97662067 0.82168855 0.6808642 ]\n",
      " [0.52277919 0.87607313 0.96989421 0.4981833 ]\n",
      " [0.66380104 0.89349049 0.9933307  0.69077004]]\n"
     ]
    }
   ],
   "source": [
    "y_y = 0.1\n",
    "BigMatrix = []\n",
    "for i in range(len(X)):\n",
    "    BigMatrix.append([])\n",
    "    for j in range(len(cluster_points)):\n",
    "        BigMatrix[i].append(exp(-y_y*distance.euclidean(X[i],cluster_points[j])*distance.euclidean(X[i],cluster_points[j])))\n",
    "BigMatrix = np.array(BigMatrix)\n",
    "print(\"BigMatrix:\",BigMatrix)"
   ]
  },
  {
   "cell_type": "code",
   "execution_count": null,
   "id": "93bd6367-2d4c-4246-aa7b-e7225c71b3c7",
   "metadata": {},
   "outputs": [],
   "source": []
  }
 ],
 "metadata": {
  "kernelspec": {
   "display_name": "Python 3",
   "language": "python",
   "name": "python3"
  },
  "language_info": {
   "codemirror_mode": {
    "name": "ipython",
    "version": 3
   },
   "file_extension": ".py",
   "mimetype": "text/x-python",
   "name": "python",
   "nbconvert_exporter": "python",
   "pygments_lexer": "ipython3",
   "version": "3.9.2"
  }
 },
 "nbformat": 4,
 "nbformat_minor": 5
}
